{
 "cells": [
  {
   "cell_type": "markdown",
   "metadata": {},
   "source": [
    "# In this project I worked on\n",
    "\n",
    "- Run hyperparameter tuning while training a model\n",
    "- Log every hyperparameter and metrics in the MLFlow UI \n",
    "- Compare the various results of the various runs in the mlflow UI \n",
    "- Choose the best model to register the model\n"
   ]
  },
  {
   "cell_type": "markdown",
   "metadata": {},
   "source": []
  },
  {
   "cell_type": "code",
   "execution_count": 26,
   "metadata": {},
   "outputs": [],
   "source": [
    "import pandas as pd\n",
    "from sklearn.ensemble import RandomForestRegressor\n",
    "from sklearn.model_selection import train_test_split,GridSearchCV\n",
    "import mlflow\n",
    "import mlflow.sklearn\n",
    "from sklearn.metrics import mean_squared_error\n",
    "from sklearn.datasets import fetch_california_housing\n",
    "from urllib.parse import urlparse\n",
    "from mlflow.models import infer_signature\n"
   ]
  },
  {
   "cell_type": "code",
   "execution_count": 27,
   "metadata": {},
   "outputs": [],
   "source": [
    "X,y=fetch_california_housing(return_X_y=True,as_frame=True)\n",
    "X_train, X_test, y_train, y_test = train_test_split(X, y, test_size=0.2, random_state=42)\n",
    "signature = infer_signature(X_train,y_train)"
   ]
  },
  {
   "cell_type": "code",
   "execution_count": 28,
   "metadata": {},
   "outputs": [],
   "source": [
    "#Hyper parameter tuning using Grid search CV\n",
    "def hyperparameter_tuning(X_train,y_train,param_grid):\n",
    "    rf = RandomForestRegressor()\n",
    "    grid_search = GridSearchCV(estimator=rf, param_grid=param_grid, cv=5, n_jobs=-1, verbose=2,scoring='neg_mean_squared_error')\n",
    "    grid_search.fit(X_train, y_train)\n",
    "    return grid_search"
   ]
  },
  {
   "cell_type": "code",
   "execution_count": 37,
   "metadata": {},
   "outputs": [
    {
     "name": "stdout",
     "output_type": "stream",
     "text": [
      "Fitting 5 folds for each of 24 candidates, totalling 120 fits\n",
      "{'max_depth': None, 'min_samples_leaf': 2, 'min_samples_split': 2, 'n_estimators': 200}\n",
      "<class 'dict'>\n",
      "🏃 View run aged-pig-726 at: http://127.0.0.1:5000/#/experiments/0/runs/453d6e990d6f40fb8f5625a54badf4ba\n",
      "🧪 View experiment at: http://127.0.0.1:5000/#/experiments/0\n"
     ]
    },
    {
     "name": "stderr",
     "output_type": "stream",
     "text": [
      "2024/12/29 12:50:36 WARNING mlflow.models.model: Model logged without a signature and input example. Please set `input_example` parameter when logging the model to auto infer the model signature.\n",
      "Registered model 'Best Random Forest Model' already exists. Creating a new version of this model...\n",
      "2024/12/29 12:50:36 INFO mlflow.store.model_registry.abstract_store: Waiting up to 300 seconds for model version to finish creation. Model name: Best Random Forest Model, version 2\n",
      "Created version '2' of model 'Best Random Forest Model'.\n"
     ]
    }
   ],
   "source": [
    "#perform hyparameter tuning for random forest regressor\n",
    "param_grid = {\n",
    "    'n_estimators':[100,200],\n",
    "    'max_depth':[5,10,None],\n",
    "    'min_samples_split':[2,5],\n",
    "    'min_samples_leaf':[1,2]\n",
    "}\n",
    "\n",
    "with mlflow.start_run():\n",
    "    gridsearch = hyperparameter_tuning(X_train, y_train, param_grid)\n",
    "    mlflow.log_params(gridsearch.best_params_)\n",
    "\n",
    "    # Get the best model\n",
    "    best_model = gridsearch.best_estimator_\n",
    "\n",
    "    # Evaluate the best model\n",
    "    y_pred = best_model.predict(X_test)\n",
    "    mse = mean_squared_error(y_test, y_pred)\n",
    "\n",
    "    # Log the metrics\n",
    "    mlflow.log_param('best n_estimators',gridsearch.best_params_['n_estimators'])\n",
    "    mlflow.log_param('best max depth',gridsearch.best_params_['max_depth'])\n",
    "    mlflow.log_param('best min_samples_split',gridsearch.best_params_['min_samples_split'])\n",
    "    mlflow.log_param('best min_samples_leaf',gridsearch.best_params_['min_samples_leaf'])\n",
    "    mlflow.log_metric('mse', mse)\n",
    "\n",
    "\n",
    "\n",
    "\n",
    "mlflow.set_tracking_uri('http://127.0.0.1:5000')\n",
    "track_uri_type = urlparse(mlflow.get_tracking_uri()).scheme\n",
    "\n",
    "\n",
    "\n",
    "if track_uri_type!='file':\n",
    "    mlflow.sklearn.log_model(best_model, \"Best Model\",registered_model_name=\"Best Random Forest Model\")\n",
    "else :\n",
    "    mlflow.sklearn.log_model(best_model, \"Best Model\", signature=signature)\n"
   ]
  },
  {
   "cell_type": "code",
   "execution_count": 32,
   "metadata": {},
   "outputs": [],
   "source": [
    "mlflow.end_run()"
   ]
  },
  {
   "cell_type": "code",
   "execution_count": null,
   "metadata": {},
   "outputs": [],
   "source": []
  },
  {
   "cell_type": "code",
   "execution_count": null,
   "metadata": {},
   "outputs": [],
   "source": []
  },
  {
   "cell_type": "code",
   "execution_count": null,
   "metadata": {},
   "outputs": [],
   "source": []
  },
  {
   "cell_type": "code",
   "execution_count": null,
   "metadata": {},
   "outputs": [],
   "source": []
  },
  {
   "cell_type": "code",
   "execution_count": null,
   "metadata": {},
   "outputs": [],
   "source": []
  }
 ],
 "metadata": {
  "kernelspec": {
   "display_name": "env",
   "language": "python",
   "name": "python3"
  },
  "language_info": {
   "codemirror_mode": {
    "name": "ipython",
    "version": 3
   },
   "file_extension": ".py",
   "mimetype": "text/x-python",
   "name": "python",
   "nbconvert_exporter": "python",
   "pygments_lexer": "ipython3",
   "version": "3.9.0"
  }
 },
 "nbformat": 4,
 "nbformat_minor": 2
}
