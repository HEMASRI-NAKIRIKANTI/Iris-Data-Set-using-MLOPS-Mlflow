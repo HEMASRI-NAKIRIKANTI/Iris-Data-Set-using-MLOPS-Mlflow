{
 "cells": [
  {
   "cell_type": "code",
   "execution_count": 3,
   "metadata": {},
   "outputs": [],
   "source": [
    "import pandas as pd \n",
    "from sklearn.datasets import load_iris\n",
    "from sklearn.linear_model import LogisticRegression\n",
    "from sklearn.model_selection import train_test_split\n",
    "from sklearn.metrics import accuracy_score\n",
    "import mlflow\n",
    "from mlflow.models import infer_signature\n",
    "\n",
    "# Load the Iris datase"
   ]
  },
  {
   "cell_type": "code",
   "execution_count": 4,
   "metadata": {},
   "outputs": [],
   "source": [
    "mlflow.set_tracking_uri('https://127.0.0.1:5000')"
   ]
  },
  {
   "cell_type": "code",
   "execution_count": 9,
   "metadata": {},
   "outputs": [
    {
     "name": "stdout",
     "output_type": "stream",
     "text": [
      "1.0\n"
     ]
    }
   ],
   "source": [
    "X,y = load_iris(return_X_y=True)\n",
    "\n",
    "# Split the data into training and testing sets\n",
    "X_train, X_test, y_train, y_test = train_test_split(X, y, test_size=0.2, random_state=42)\n",
    "\n",
    "params ={\n",
    "    'penalty': 'l2',\n",
    "    'C': 1.0,\n",
    "    'random_state': 42,\n",
    "    'max_iter': 1000,\n",
    "    'solver': 'lbfgs',\n",
    "}\n",
    "# Define the logistic regression model\n",
    "lr= LogisticRegression(\n",
    "    **params,\n",
    ")\n",
    "lr.fit(X_train, y_train)\n",
    "\n",
    "# Evaluate the model\n",
    "y_pred = lr.predict(X_test)\n",
    "\n",
    "\n",
    "accuracy = accuracy_score(y_test, y_pred)\n",
    "print(accuracy)\n",
    "\n"
   ]
  },
  {
   "cell_type": "code",
   "execution_count": 12,
   "metadata": {},
   "outputs": [
    {
     "name": "stderr",
     "output_type": "stream",
     "text": [
      "Successfully registered model 'iris_classifier'.\n",
      "2024/12/28 15:08:36 INFO mlflow.store.model_registry.abstract_store: Waiting up to 300 seconds for model version to finish creation. Model name: iris_classifier, version 1\n"
     ]
    },
    {
     "name": "stdout",
     "output_type": "stream",
     "text": [
      "🏃 View run worried-quail-64 at: http://127.0.0.1:5000/#/experiments/567950720432239460/runs/08e0ba9819b74cdaa4d79f8512ec49dd\n",
      "🧪 View experiment at: http://127.0.0.1:5000/#/experiments/567950720432239460\n"
     ]
    },
    {
     "name": "stderr",
     "output_type": "stream",
     "text": [
      "Created version '1' of model 'iris_classifier'.\n"
     ]
    }
   ],
   "source": [
    "mlflow.set_tracking_uri(\"http://127.0.0.1:5000\")\n",
    "\n",
    "# Create a new experiment\n",
    "mlflow.set_experiment(\"ML Flow Quick Start\")\n",
    "\n",
    "# Log the model\n",
    "with mlflow.start_run():\n",
    "    mlflow.log_params(params)\n",
    "    mlflow.log_metric(\"accuracy\", accuracy)\n",
    "\n",
    "    signature = infer_signature(X_train,lr.predict(X_test))\n",
    "    model_info = mlflow.sklearn.log_model(\n",
    "        lr,\n",
    "        signature=signature,\n",
    "        artifact_path=\"iris_model\",\n",
    "        registered_model_name=\"iris_classifier\",\n",
    "        input_example =X_train,\n",
    "\n",
    "    )\n"
   ]
  }
 ],
 "metadata": {
  "kernelspec": {
   "display_name": "env",
   "language": "python",
   "name": "python3"
  },
  "language_info": {
   "codemirror_mode": {
    "name": "ipython",
    "version": 3
   },
   "file_extension": ".py",
   "mimetype": "text/x-python",
   "name": "python",
   "nbconvert_exporter": "python",
   "pygments_lexer": "ipython3",
   "version": "3.9.0"
  }
 },
 "nbformat": 4,
 "nbformat_minor": 2
}
